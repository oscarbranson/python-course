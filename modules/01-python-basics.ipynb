{
 "cells": [
  {
   "cell_type": "markdown",
   "id": "128b15dd",
   "metadata": {},
   "source": [
    "# Python Basics for Earth Sciences\n",
    "\n",
    "**Duration:** 30 minutes  \n",
    "**Prerequisites:** None  \n",
    "**Learning Objectives:**\n",
    "- Understand Python variables and data types\n",
    "- Perform basic mathematical operations\n",
    "- Apply Python basics to Earth science calculations\n",
    "- Work with strings and formatted output\n",
    "\n",
    "Welcome to your first Python module! In this notebook, we'll cover the fundamental building blocks of Python programming with practical examples from Earth Sciences."
   ]
  },
  {
   "cell_type": "markdown",
   "id": "95852d01",
   "metadata": {},
   "source": [
    "## 1. Variables and Data Types\n",
    "\n",
    "In Python, variables are containers that store data values. Python automatically determines the data type based on the value assigned."
   ]
  },
  {
   "cell_type": "code",
   "execution_count": null,
   "id": "31d78fc2",
   "metadata": {},
   "outputs": [],
   "source": [
    "# Numeric variables - common in geoscience measurements\n",
    "temperature_celsius = 25.3  # Float (decimal number)\n",
    "depth_meters = 1500         # Integer (whole number)\n",
    "pressure_pascal = 1.013e5   # Scientific notation\n",
    "\n",
    "# String variables - useful for sample names, locations, etc.\n",
    "rock_type = \"granite\"\n",
    "sampling_location = \"Mount Washington, NH\"\n",
    "\n",
    "# Boolean variables - True/False values\n",
    "is_metamorphic = False\n",
    "contains_quartz = True\n",
    "\n",
    "print(f\"Temperature: {temperature_celsius}°C\")\n",
    "print(f\"Depth: {depth_meters} m\")\n",
    "print(f\"Rock type: {rock_type}\")\n",
    "print(f\"Contains quartz: {contains_quartz}\")"
   ]
  },
  {
   "cell_type": "markdown",
   "id": "c62b6245",
   "metadata": {},
   "source": [
    "### Exercise 1: Create Your Own Variables\n",
    "Create variables for a geological sample with the following properties:\n",
    "- Sample ID: \"GRN-001\"\n",
    "- Latitude: 44.2705\n",
    "- Longitude: -71.3033\n",
    "- Elevation: 1916 meters\n",
    "- Is igneous: True"
   ]
  },
  {
   "cell_type": "code",
   "execution_count": null,
   "id": "d0b42b6e",
   "metadata": {},
   "outputs": [],
   "source": [
    "# Your code here\n",
    "sample_id = \"GRN-001\"\n",
    "latitude = 44.2705\n",
    "longitude = -71.3033\n",
    "elevation = 1916\n",
    "is_igneous = True\n",
    "\n",
    "print(f\"Sample {sample_id} collected at ({latitude}, {longitude}), elevation {elevation}m\")\n",
    "print(f\"Igneous rock: {is_igneous}\")"
   ]
  },
  {
   "cell_type": "markdown",
   "id": "3fb7157c",
   "metadata": {},
   "source": [
    "## 2. Basic Mathematical Operations\n",
    "\n",
    "Python supports all standard mathematical operations, which are essential for scientific calculations."
   ]
  },
  {
   "cell_type": "code",
   "execution_count": null,
   "id": "24e948aa",
   "metadata": {},
   "outputs": [],
   "source": [
    "# Basic arithmetic operations\n",
    "a = 10\n",
    "b = 3\n",
    "\n",
    "addition = a + b       # 13\n",
    "subtraction = a - b    # 7\n",
    "multiplication = a * b # 30\n",
    "division = a / b       # 3.333...\n",
    "integer_division = a // b  # 3 (floor division)\n",
    "remainder = a % b      # 1 (modulo)\n",
    "power = a ** b         # 1000 (exponentiation)\n",
    "\n",
    "print(f\"Addition: {a} + {b} = {addition}\")\n",
    "print(f\"Division: {a} / {b} = {division:.3f}\")\n",
    "print(f\"Power: {a}^{b} = {power}\")"
   ]
  },
  {
   "cell_type": "markdown",
   "id": "8bc766b8",
   "metadata": {},
   "source": [
    "## 3. Earth Science Application: Temperature Conversion\n",
    "\n",
    "Let's apply our Python skills to convert between temperature scales commonly used in Earth sciences."
   ]
  },
  {
   "cell_type": "code",
   "execution_count": null,
   "id": "b88af4f1",
   "metadata": {},
   "outputs": [],
   "source": [
    "# Temperature conversions\n",
    "temp_celsius = 1085  # Melting point of copper\n",
    "\n",
    "# Convert Celsius to Fahrenheit: F = (C × 9/5) + 32\n",
    "temp_fahrenheit = (temp_celsius * 9/5) + 32\n",
    "\n",
    "# Convert Celsius to Kelvin: K = C + 273.15\n",
    "temp_kelvin = temp_celsius + 273.15\n",
    "\n",
    "print(f\"Copper melting point:\")\n",
    "print(f\"  {temp_celsius}°C\")\n",
    "print(f\"  {temp_fahrenheit}°F\")\n",
    "print(f\"  {temp_kelvin} K\")"
   ]
  },
  {
   "cell_type": "markdown",
   "id": "0fe4eb02",
   "metadata": {},
   "source": [
    "### Exercise 2: Geothermal Gradient\n",
    "The Earth's average geothermal gradient is about 25°C per kilometer of depth.\n",
    "Calculate the temperature at different depths in a geothermal well."
   ]
  },
  {
   "cell_type": "code",
   "execution_count": null,
   "id": "8648b63e",
   "metadata": {},
   "outputs": [],
   "source": [
    "# Your code here\n",
    "surface_temp = 15  # Surface temperature in °C\n",
    "geothermal_gradient = 25  # °C per km\n",
    "\n",
    "# Calculate temperatures at different depths\n",
    "depth_1km = 1\n",
    "depth_2km = 2\n",
    "depth_5km = 5\n",
    "\n",
    "temp_1km = surface_temp + (geothermal_gradient * depth_1km)\n",
    "temp_2km = surface_temp + (geothermal_gradient * depth_2km)\n",
    "temp_5km = surface_temp + (geothermal_gradient * depth_5km)\n",
    "\n",
    "print(f\"Geothermal well temperatures:\")\n",
    "print(f\"Surface: {surface_temp}°C\")\n",
    "print(f\"1 km depth: {temp_1km}°C\")\n",
    "print(f\"2 km depth: {temp_2km}°C\")\n",
    "print(f\"5 km depth: {temp_5km}°C\")"
   ]
  },
  {
   "cell_type": "markdown",
   "id": "bcba9b17",
   "metadata": {},
   "source": [
    "## 4. Working with Strings and Formatting\n",
    "\n",
    "Strings are essential for handling text data like sample names, locations, and creating formatted output."
   ]
  },
  {
   "cell_type": "code",
   "execution_count": null,
   "id": "3eafb964",
   "metadata": {},
   "outputs": [],
   "source": [
    "# String operations\n",
    "mineral_name = \"Quartz\"\n",
    "chemical_formula = \"SiO2\"\n",
    "\n",
    "# String concatenation\n",
    "description = mineral_name + \" (\" + chemical_formula + \")\"\n",
    "print(description)\n",
    "\n",
    "# F-string formatting (preferred method)\n",
    "hardness = 7\n",
    "density = 2.65\n",
    "\n",
    "formatted_description = f\"{mineral_name} ({chemical_formula}) has hardness {hardness} and density {density} g/cm³\"\n",
    "print(formatted_description)\n",
    "\n",
    "# String methods\n",
    "print(f\"Uppercase: {mineral_name.upper()}\")\n",
    "print(f\"Lowercase: {mineral_name.lower()}\")\n",
    "print(f\"Length: {len(mineral_name)} characters\")"
   ]
  },
  {
   "cell_type": "markdown",
   "id": "29377806",
   "metadata": {},
   "source": [
    "## 5. Density and Volume Calculations\n",
    "\n",
    "Let's calculate some basic physical properties of rock samples."
   ]
  },
  {
   "cell_type": "code",
   "execution_count": null,
   "id": "c86b84e5",
   "metadata": {},
   "outputs": [],
   "source": [
    "# Rock sample properties\n",
    "sample_mass = 2.45  # kg\n",
    "sample_length = 0.15  # m\n",
    "sample_width = 0.10   # m\n",
    "sample_height = 0.08  # m\n",
    "\n",
    "# Calculate volume (rectangular sample)\n",
    "volume = sample_length * sample_width * sample_height\n",
    "\n",
    "# Calculate density\n",
    "density = sample_mass / volume\n",
    "\n",
    "# Convert density to g/cm³ (more common in geology)\n",
    "density_g_cm3 = density / 1000  # kg/m³ to g/cm³\n",
    "\n",
    "print(f\"Sample Analysis:\")\n",
    "print(f\"Dimensions: {sample_length} × {sample_width} × {sample_height} m\")\n",
    "print(f\"Volume: {volume:.6f} m³\")\n",
    "print(f\"Mass: {sample_mass} kg\")\n",
    "print(f\"Density: {density:.1f} kg/m³ or {density_g_cm3:.2f} g/cm³\")\n",
    "\n",
    "# Identify rock type based on density\n",
    "if density_g_cm3 < 2.5:\n",
    "    rock_interpretation = \"Low density - possibly sedimentary (sandstone, limestone)\"\n",
    "elif density_g_cm3 < 3.0:\n",
    "    rock_interpretation = \"Medium density - possibly igneous (granite, andesite)\"\n",
    "else:\n",
    "    rock_interpretation = \"High density - possibly mafic/ultramafic (basalt, peridotite)\"\n",
    "    \n",
    "print(f\"Interpretation: {rock_interpretation}\")"
   ]
  },
  {
   "cell_type": "markdown",
   "id": "1a1b0dd2",
   "metadata": {},
   "source": [
    "### Exercise 3: Porosity Calculation\n",
    "Porosity is the percentage of void space in a rock sample. \n",
    "Calculate the porosity using: Porosity = (1 - bulk_density/grain_density) × 100%"
   ]
  },
  {
   "cell_type": "code",
   "execution_count": null,
   "id": "ba85b303",
   "metadata": {},
   "outputs": [],
   "source": [
    "# Your code here\n",
    "bulk_density = 2.3    # g/cm³ (measured density of rock sample)\n",
    "grain_density = 2.65  # g/cm³ (density of solid quartz grains)\n",
    "\n",
    "# Calculate porosity\n",
    "porosity_fraction = 1 - (bulk_density / grain_density)\n",
    "porosity_percent = porosity_fraction * 100\n",
    "\n",
    "print(f\"Porosity Calculation:\")\n",
    "print(f\"Bulk density: {bulk_density} g/cm³\")\n",
    "print(f\"Grain density: {grain_density} g/cm³\")\n",
    "print(f\"Porosity: {porosity_percent:.1f}%\")\n",
    "\n",
    "# Interpret porosity\n",
    "if porosity_percent < 5:\n",
    "    porosity_interpretation = \"Very low porosity - tight rock\"\n",
    "elif porosity_percent < 15:\n",
    "    porosity_interpretation = \"Low to moderate porosity\"\n",
    "elif porosity_percent < 25:\n",
    "    porosity_interpretation = \"Good porosity - potential reservoir rock\"\n",
    "else:\n",
    "    porosity_interpretation = \"Very high porosity - highly porous rock\"\n",
    "    \n",
    "print(f\"Interpretation: {porosity_interpretation}\")"
   ]
  },
  {
   "cell_type": "markdown",
   "id": "8faf0a46",
   "metadata": {},
   "source": [
    "## 6. Summary and Next Steps\n",
    "\n",
    "Congratulations! You've completed the Python Basics module. You've learned:\n",
    "\n",
    "✅ **Variables and Data Types**: How to store and work with different types of data  \n",
    "✅ **Mathematical Operations**: Basic arithmetic for scientific calculations  \n",
    "✅ **String Handling**: Working with text data and formatting output  \n",
    "✅ **Earth Science Applications**: Temperature conversion, density, and porosity calculations\n",
    "\n",
    "### What's Next?\n",
    "Now that you understand Python basics, you're ready to move on to:\n",
    "- **Working with Arrays (NumPy)**: Handle large datasets and perform vectorized operations\n",
    "- **Data Handling (Pandas)**: Work with structured data and perform data analysis\n",
    "- **Basic Plotting (Matplotlib)**: Visualize your scientific data\n",
    "\n",
    "### Practice Problems\n",
    "Try these additional exercises to reinforce your learning:\n",
    "\n",
    "1. **Seismic Wave Velocity**: Calculate P-wave and S-wave travel times\n",
    "2. **Mineral Hardness Scale**: Create a hardness comparison program\n",
    "3. **Coordinate Conversion**: Convert between different coordinate systems\n",
    "4. **Radioactive Decay**: Calculate half-life problems"
   ]
  },
  {
   "cell_type": "code",
   "execution_count": null,
   "id": "1db8785f",
   "metadata": {},
   "outputs": [],
   "source": [
    "# Bonus Challenge: Seismic Wave Travel Time\n",
    "# P-waves travel at ~6 km/s, S-waves at ~3.5 km/s\n",
    "# Calculate arrival times for an earthquake 150 km away\n",
    "\n",
    "distance_km = 150\n",
    "p_wave_velocity = 6.0    # km/s\n",
    "s_wave_velocity = 3.5    # km/s\n",
    "\n",
    "p_wave_time = distance_km / p_wave_velocity\n",
    "s_wave_time = distance_km / s_wave_velocity\n",
    "time_difference = s_wave_time - p_wave_time\n",
    "\n",
    "print(f\"Earthquake at {distance_km} km distance:\")\n",
    "print(f\"P-wave arrival: {p_wave_time:.1f} seconds\")\n",
    "print(f\"S-wave arrival: {s_wave_time:.1f} seconds\")\n",
    "print(f\"S-P time difference: {time_difference:.1f} seconds\")"
   ]
  }
 ],
 "metadata": {
  "language_info": {
   "name": "python"
  }
 },
 "nbformat": 4,
 "nbformat_minor": 5
}
