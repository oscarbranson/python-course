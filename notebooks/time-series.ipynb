{
  "cells": [
    {
      "cell_type": "markdown",
      "metadata": {},
      "source": [
        "# Time Series Analysis\n",
        "\n",
        "## Learning Objectives\n",
        "- Learn about time series analysis\n",
        "- Apply concepts to earth science problems\n",
        "\n",
        "## Prerequisites\n",
        "core-data-handling, time-datetime, statistical-analysis\n",
        "\n",
        "**Duration:** 30 minutes  \n",
        "**Level:** Intermediate\n",
        "\n",
        "---"
      ]
    },
    {
      "cell_type": "code",
      "execution_count": null,
      "metadata": {},
      "outputs": [],
      "source": [
        "# Welcome to Time Series Analysis!\n",
        "print('Starting Time Series Analysis module...')\n",
        "\n",
        "# Import common libraries\n",
        "import numpy as np\n",
        "import pandas as pd\n",
        "import matplotlib.pyplot as plt"
      ]
    },
    {
      "cell_type": "markdown",
      "metadata": {},
      "source": [
        "## Summary\n",
        "\n",
        "This notebook covers **Time Series Analysis**.\n",
        "\n",
        "**Duration:** 30 minutes  \n",
        "**Level:** intermediate  \n",
        "**Prerequisites:** core-data-handling, time-datetime, statistical-analysis\n",
        "\n",
        "## Learning Objectives\n",
        "\n",
        "- Understand time series analysis concepts\n",
        "- Apply techniques to earth science problems\n",
        "- Work with time series, datetime, trends\n",
        "\n",
        "---\n",
        "\n",
        "*This notebook is part of the Python for Earth Sciences course.*"
      ]
    }
  ],
  "metadata": {
    "kernelspec": {
      "display_name": "Python 3",
      "language": "python",
      "name": "python3"
    },
    "language_info": {
      "codemirror_mode": {
        "name": "ipython",
        "version": 3
      },
      "file_extension": ".py",
      "mimetype": "text/x-python",
      "name": "python",
      "nbconvert_exporter": "python",
      "pygments_lexer": "ipython3",
      "version": "3.8.0"
    }
  },
  "nbformat": 4,
  "nbformat_minor": 4
}