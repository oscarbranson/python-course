{
  "cells": [
    {
      "cell_type": "markdown",
      "metadata": {},
      "source": [
        "# Basic Plotting\n",
        "\n",
        "## Learning Objectives\n",
        "- Learn about basic plotting\n",
        "- Apply concepts to earth science problems\n",
        "\n",
        "## Prerequisites\n",
        "core-arrays-numpy\n",
        "\n",
        "**Duration:** 30 minutes  \n",
        "**Level:** Beginner\n",
        "\n",
        "---"
      ]
    },
    {
      "cell_type": "code",
      "execution_count": null,
      "metadata": {},
      "outputs": [],
      "source": [
        "# Welcome to Basic Plotting!\n",
        "print('Starting Basic Plotting module...')\n",
        "\n",
        "# Import common libraries\n",
        "import numpy as np\n",
        "import pandas as pd\n",
        "import matplotlib.pyplot as plt"
      ]
    },
    {
      "cell_type": "markdown",
      "metadata": {},
      "source": [
        "## Summary\n",
        "\n",
        "This notebook covers **Basic Plotting**.\n",
        "\n",
        "**Duration:** 30 minutes  \n",
        "**Level:** beginner  \n",
        "**Prerequisites:** core-arrays-numpy\n",
        "\n",
        "## Learning Objectives\n",
        "\n",
        "- Understand basic plotting concepts\n",
        "- Apply techniques to earth science problems\n",
        "- Work with matplotlib, plotting, visualization\n",
        "\n",
        "---\n",
        "\n",
        "*This notebook is part of the Python for Earth Sciences course.*"
      ]
    }
  ],
  "metadata": {
    "kernelspec": {
      "display_name": "Python 3",
      "language": "python",
      "name": "python3"
    },
    "language_info": {
      "codemirror_mode": {
        "name": "ipython",
        "version": 3
      },
      "file_extension": ".py",
      "mimetype": "text/x-python",
      "name": "python",
      "nbconvert_exporter": "python",
      "pygments_lexer": "ipython3",
      "version": "3.8.0"
    }
  },
  "nbformat": 4,
  "nbformat_minor": 4
}