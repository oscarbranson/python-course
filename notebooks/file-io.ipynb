{
  "cells": [
    {
      "cell_type": "markdown",
      "metadata": {},
      "source": [
        "# Scientific File Formats\n",
        "\n",
        "## Learning Objectives\n",
        "- Learn about scientific file formats\n",
        "- Apply concepts to earth science problems\n",
        "\n",
        "## Prerequisites\n",
        "data-handling\n",
        "\n",
        "**Duration:** 35 minutes  \n",
        "**Level:** Intermediate\n",
        "\n",
        "---"
      ]
    },
    {
      "cell_type": "code",
      "execution_count": null,
      "metadata": {},
      "outputs": [],
      "source": [
        "# Welcome to Scientific File Formats!\n",
        "print('Starting Scientific File Formats module...')\n",
        "\n",
        "# Import common libraries\n",
        "import numpy as np\n",
        "import pandas as pd\n",
        "import matplotlib.pyplot as plt"
      ]
    },
    {
      "cell_type": "markdown",
      "metadata": {},
      "source": [
        "## Summary\n",
        "\n",
        "This notebook covers **Scientific File Formats**.\n",
        "\n",
        "**Duration:** 35 minutes  \n",
        "**Level:** intermediate  \n",
        "**Prerequisites:** data-handling\n",
        "\n",
        "## Learning Objectives\n",
        "\n",
        "- Understand scientific file formats concepts\n",
        "- Apply techniques to earth science problems\n",
        "- Work with netcdf, hdf5, file formats\n",
        "\n",
        "---\n",
        "\n",
        "*This notebook is part of the Python for Earth Sciences course.*"
      ]
    }
  ],
  "metadata": {
    "kernelspec": {
      "display_name": "Python 3",
      "language": "python",
      "name": "python3"
    },
    "language_info": {
      "codemirror_mode": {
        "name": "ipython",
        "version": 3
      },
      "file_extension": ".py",
      "mimetype": "text/x-python",
      "name": "python",
      "nbconvert_exporter": "python",
      "pygments_lexer": "ipython3",
      "version": "3.8.0"
    }
  },
  "nbformat": 4,
  "nbformat_minor": 4
}