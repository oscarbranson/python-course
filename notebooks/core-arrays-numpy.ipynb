{
 "cells": [
  {
   "cell_type": "markdown",
   "id": "1af29787",
   "metadata": {},
   "source": [
    "# Working with Arrays - NumPy Fundamentals\n",
    "\n",
    "## Learning Objectives\n",
    "- Understand NumPy arrays and their advantages\n",
    "- Learn array creation, indexing, and slicing\n",
    "- Perform mathematical operations on arrays\n",
    "- Apply NumPy to earth science data analysis\n",
    "\n",
    "## Prerequisites\n",
    "- Python Basics (variables, functions, loops)\n",
    "\n",
    "---"
   ]
  },
  {
   "cell_type": "markdown",
   "id": "b97e48b2",
   "metadata": {},
   "source": [
    "## 1. Introduction to NumPy\n",
    "\n",
    "NumPy (Numerical Python) is the foundation of scientific computing in Python."
   ]
  },
  {
   "cell_type": "code",
   "execution_count": null,
   "id": "34ef9807",
   "metadata": {},
   "outputs": [],
   "source": [
    "import numpy as np\n",
    "\n",
    "# Create arrays from lists\n",
    "temperatures = np.array([22.1, 23.5, 21.8, 24.2, 25.1])\n",
    "depths = np.array([0, 10, 20, 30, 40])\n",
    "\n",
    "print(\"Temperature array:\", temperatures)\n",
    "print(\"Array type:\", type(temperatures))\n",
    "print(\"Array shape:\", temperatures.shape)\n",
    "print(\"Array dtype:\", temperatures.dtype)"
   ]
  },
  {
   "cell_type": "markdown",
   "id": "4b05c4df",
   "metadata": {},
   "source": [
    "## 2. Array Creation Methods\n",
    "\n",
    "NumPy provides many ways to create arrays."
   ]
  },
  {
   "cell_type": "code",
   "execution_count": null,
   "id": "5905eda2",
   "metadata": {},
   "outputs": [],
   "source": [
    "# Different ways to create arrays\n",
    "zeros_array = np.zeros(5)  # Array of zeros\n",
    "ones_array = np.ones(3)    # Array of ones\n",
    "range_array = np.arange(0, 50, 10)  # Range with step\n",
    "linspace_array = np.linspace(0, 40, 5)  # Evenly spaced values\n",
    "\n",
    "print(\"Zeros:\", zeros_array)\n",
    "print(\"Ones:\", ones_array)\n",
    "print(\"Range:\", range_array)\n",
    "print(\"Linspace:\", linspace_array)\n",
    "\n",
    "# 2D arrays (matrices)\n",
    "matrix = np.array([[1, 2, 3], [4, 5, 6]])\n",
    "print(\"\\n2D array:\")\n",
    "print(matrix)\n",
    "print(\"Shape:\", matrix.shape)"
   ]
  },
  {
   "cell_type": "markdown",
   "id": "6ccf0e28",
   "metadata": {},
   "source": [
    "## 3. Array Indexing and Slicing\n",
    "\n",
    "Access and modify array elements efficiently."
   ]
  },
  {
   "cell_type": "code",
   "execution_count": null,
   "id": "22ebe7ce",
   "metadata": {},
   "outputs": [],
   "source": [
    "# Ocean temperature profile data\n",
    "depths = np.array([0, 10, 20, 30, 50, 75, 100, 150, 200])\n",
    "temps = np.array([25.2, 24.8, 22.1, 18.5, 15.2, 12.8, 10.5, 8.2, 6.1])\n",
    "\n",
    "print(\"Full profile:\")\n",
    "print(f\"Depths: {depths}\")\n",
    "print(f\"Temps:  {temps}\")\n",
    "\n",
    "# Indexing\n",
    "print(f\"\\nSurface temperature: {temps[0]}°C\")\n",
    "print(f\"Deep temperature: {temps[-1]}°C\")\n",
    "\n",
    "# Slicing - upper ocean (0-50m)\n",
    "upper_ocean_mask = depths <= 50\n",
    "upper_depths = depths[upper_ocean_mask]\n",
    "upper_temps = temps[upper_ocean_mask]\n",
    "\n",
    "print(f\"\\nUpper ocean depths: {upper_depths}\")\n",
    "print(f\"Upper ocean temps: {upper_temps}\")"
   ]
  },
  {
   "cell_type": "markdown",
   "id": "4e30d8fa",
   "metadata": {},
   "source": [
    "## 4. Mathematical Operations\n",
    "\n",
    "NumPy enables vectorized operations on entire arrays."
   ]
  },
  {
   "cell_type": "code",
   "execution_count": null,
   "id": "c857c1cc",
   "metadata": {},
   "outputs": [],
   "source": [
    "# Convert temperatures to Kelvin\n",
    "temps_kelvin = temps + 273.15\n",
    "\n",
    "# Calculate temperature differences from surface\n",
    "temp_anomaly = temps - temps[0]\n",
    "\n",
    "# Statistical operations\n",
    "mean_temp = np.mean(temps)\n",
    "std_temp = np.std(temps)\n",
    "temp_gradient = np.gradient(temps, depths)\n",
    "\n",
    "print(f\"Mean temperature: {mean_temp:.2f}°C\")\n",
    "print(f\"Temperature std: {std_temp:.2f}°C\")\n",
    "print(f\"\\nTemperature gradient (°C/m):\")\n",
    "for i, grad in enumerate(temp_gradient):\n",
    "    print(f\"  {depths[i]:3d}m: {grad:.4f}\")"
   ]
  },
  {
   "cell_type": "markdown",
   "id": "165daceb",
   "metadata": {},
   "source": [
    "## 5. Working with 2D Arrays - Grid Data\n",
    "\n",
    "Many earth science datasets are gridded (latitude, longitude, time, etc.)"
   ]
  },
  {
   "cell_type": "code",
   "execution_count": null,
   "id": "5e725e83",
   "metadata": {},
   "outputs": [],
   "source": [
    "# Create a simple 2D temperature grid (5x5)\n",
    "# Simulating sea surface temperature\n",
    "np.random.seed(42)  # For reproducible results\n",
    "sst_grid = 20 + 5 * np.random.random((5, 5))\n",
    "\n",
    "print(\"Sea Surface Temperature Grid (°C):\")\n",
    "print(sst_grid)\n",
    "\n",
    "# Grid operations\n",
    "print(f\"\\nGrid statistics:\")\n",
    "print(f\"Mean SST: {np.mean(sst_grid):.2f}°C\")\n",
    "print(f\"Max SST: {np.max(sst_grid):.2f}°C\")\n",
    "print(f\"Min SST: {np.min(sst_grid):.2f}°C\")\n",
    "\n",
    "# Find location of maximum temperature\n",
    "max_location = np.unravel_index(np.argmax(sst_grid), sst_grid.shape)\n",
    "print(f\"Hottest point at grid position: {max_location}\")\n",
    "print(f\"Temperature there: {sst_grid[max_location]:.2f}°C\")"
   ]
  },
  {
   "cell_type": "markdown",
   "id": "71e56e4a",
   "metadata": {},
   "source": [
    "## 6. Array Broadcasting\n",
    "\n",
    "NumPy's broadcasting allows operations between arrays of different shapes."
   ]
  },
  {
   "cell_type": "code",
   "execution_count": null,
   "id": "1b8c4f5a",
   "metadata": {},
   "outputs": [],
   "source": [
    "# Temperature correction based on depth\n",
    "# Simulating pressure effects\n",
    "pressure_correction = depths * 0.01  # 0.01°C per meter\n",
    "\n",
    "# Broadcasting: subtract correction from all temperatures\n",
    "corrected_temps = temps - pressure_correction\n",
    "\n",
    "print(\"Original vs Corrected Temperatures:\")\n",
    "print(f\"{'Depth (m)':>8} {'Original':>10} {'Correction':>12} {'Corrected':>10}\")\n",
    "print(\"-\" * 45)\n",
    "for i in range(len(depths)):\n",
    "    print(f\"{depths[i]:8.0f} {temps[i]:10.2f} {pressure_correction[i]:12.3f} {corrected_temps[i]:10.2f}\")"
   ]
  },
  {
   "cell_type": "markdown",
   "id": "c9f53054",
   "metadata": {},
   "source": [
    "## 7. Exercise: Seawater Density Calculation\n",
    "\n",
    "Calculate seawater density using the UNESCO equation of state."
   ]
  },
  {
   "cell_type": "code",
   "execution_count": null,
   "id": "0670cc72",
   "metadata": {},
   "outputs": [],
   "source": [
    "def seawater_density(temperature, salinity, pressure=0):\n",
    "    \"\"\"\n",
    "    Calculate seawater density using simplified UNESCO equation.\n",
    "    \n",
    "    Parameters:\n",
    "    temperature: array of temperatures (°C)\n",
    "    salinity: array of salinities (PSU) \n",
    "    pressure: array of pressures (dbar), default=0\n",
    "    \n",
    "    Returns:\n",
    "    density: array of densities (kg/m³)\n",
    "    \"\"\"\n",
    "    # Simplified calculation - replace with your implementation\n",
    "    # Hint: density ≈ 1000 + 0.8*salinity - 0.2*temperature + 0.005*pressure\n",
    "    \n",
    "    # Your code here!\n",
    "    pass\n",
    "\n",
    "# Test data\n",
    "salinities = np.array([35.0, 35.1, 35.2, 35.4, 35.6, 35.8, 36.0, 36.2, 36.4])\n",
    "pressures = depths * 1.0  # Approximate: 1 dbar per meter\n",
    "\n",
    "# Calculate density profile\n",
    "densities = seawater_density(temps, salinities, pressures)\n",
    "\n",
    "print(\"Water Column Properties:\")\n",
    "print(f\"{'Depth':>6} {'Temp':>6} {'Sal':>6} {'Press':>6} {'Density':>8}\")\n",
    "print(f\"{'(m)':>6} {'(°C)':>6} {'(PSU)':>6} {'(dbar)':>6} {'(kg/m³)':>8}\")\n",
    "print(\"-\" * 40)\n",
    "for i in range(len(depths)):\n",
    "    print(f\"{depths[i]:6.0f} {temps[i]:6.2f} {salinities[i]:6.1f} {pressures[i]:6.1f} {densities[i]:8.2f}\")"
   ]
  },
  {
   "cell_type": "markdown",
   "id": "87c76b0b",
   "metadata": {},
   "source": [
    "## Summary\n",
    "\n",
    "In this module, you learned:\n",
    "- Creating NumPy arrays with various methods\n",
    "- Array indexing, slicing, and boolean masking\n",
    "- Vectorized mathematical operations\n",
    "- Working with multidimensional arrays\n",
    "- Broadcasting for operations between different-shaped arrays\n",
    "- Applying NumPy to oceanographic calculations\n",
    "\n",
    "## Next Steps\n",
    "\n",
    "Continue to \"Data Handling with Pandas\" to learn about working with structured datasets and time series.\n",
    "\n",
    "## Additional Resources\n",
    "\n",
    "- [NumPy Documentation](https://numpy.org/doc/)\n",
    "- [NumPy for MATLAB Users](https://numpy.org/doc/stable/user/numpy-for-matlab-users.html)\n",
    "- [SciPy Lecture Notes](https://scipy-lectures.org/)"
   ]
  }
 ],
 "metadata": {
  "language_info": {
   "name": "python"
  }
 },
 "nbformat": 4,
 "nbformat_minor": 5
}
