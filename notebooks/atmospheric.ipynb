{
  "cells": [
    {
      "cell_type": "markdown",
      "metadata": {},
      "source": [
        "# Atmospheric Science\n",
        "\n",
        "## Learning Objectives\n",
        "- Learn about atmospheric science\n",
        "- Apply concepts to earth science problems\n",
        "\n",
        "## Prerequisites\n",
        "time-series, geospatial-fundamentals\n",
        "\n",
        "**Duration:** 35 minutes  \n",
        "**Level:** Advanced\n",
        "\n",
        "---"
      ]
    },
    {
      "cell_type": "code",
      "execution_count": null,
      "metadata": {},
      "outputs": [],
      "source": [
        "# Welcome to Atmospheric Science!\n",
        "print('Starting Atmospheric Science module...')\n",
        "\n",
        "# Import common libraries\n",
        "import numpy as np\n",
        "import pandas as pd\n",
        "import matplotlib.pyplot as plt"
      ]
    },
    {
      "cell_type": "markdown",
      "metadata": {},
      "source": [
        "## Summary\n",
        "\n",
        "This notebook covers **Atmospheric Science**.\n",
        "\n",
        "**Duration:** 35 minutes  \n",
        "**Level:** advanced  \n",
        "**Prerequisites:** time-series, geospatial-fundamentals\n",
        "\n",
        "## Learning Objectives\n",
        "\n",
        "- Understand atmospheric science concepts\n",
        "- Apply techniques to earth science problems\n",
        "- Work with atmosphere, meteorology, radiosonde\n",
        "\n",
        "---\n",
        "\n",
        "*This notebook is part of the Python for Earth Sciences course.*"
      ]
    }
  ],
  "metadata": {
    "kernelspec": {
      "display_name": "Python 3",
      "language": "python",
      "name": "python3"
    },
    "language_info": {
      "codemirror_mode": {
        "name": "ipython",
        "version": 3
      },
      "file_extension": ".py",
      "mimetype": "text/x-python",
      "name": "python",
      "nbconvert_exporter": "python",
      "pygments_lexer": "ipython3",
      "version": "3.8.0"
    }
  },
  "nbformat": 4,
  "nbformat_minor": 4
}