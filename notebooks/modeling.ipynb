{
  "cells": [
    {
      "cell_type": "markdown",
      "metadata": {},
      "source": [
        "# Numerical Modeling\n",
        "\n",
        "## Learning Objectives\n",
        "- Learn about numerical modeling\n",
        "- Apply concepts to earth science problems\n",
        "\n",
        "## Prerequisites\n",
        "arrays-numpy, statistical-analysis\n",
        "\n",
        "**Duration:** 40 minutes  \n",
        "**Level:** Advanced\n",
        "\n",
        "---"
      ]
    },
    {
      "cell_type": "code",
      "execution_count": null,
      "metadata": {},
      "outputs": [],
      "source": [
        "# Welcome to Numerical Modeling!\n",
        "print('Starting Numerical Modeling module...')\n",
        "\n",
        "# Import common libraries\n",
        "import numpy as np\n",
        "import pandas as pd\n",
        "import matplotlib.pyplot as plt"
      ]
    },
    {
      "cell_type": "markdown",
      "metadata": {},
      "source": [
        "## Summary\n",
        "\n",
        "This notebook covers **Numerical Modeling**.\n",
        "\n",
        "**Duration:** 40 minutes  \n",
        "**Level:** advanced  \n",
        "**Prerequisites:** arrays-numpy, statistical-analysis\n",
        "\n",
        "## Learning Objectives\n",
        "\n",
        "- Understand numerical modeling concepts\n",
        "- Apply techniques to earth science problems\n",
        "- Work with modeling, simulation, differential equations\n",
        "\n",
        "---\n",
        "\n",
        "*This notebook is part of the Python for Earth Sciences course.*"
      ]
    }
  ],
  "metadata": {
    "kernelspec": {
      "display_name": "Python 3",
      "language": "python",
      "name": "python3"
    },
    "language_info": {
      "codemirror_mode": {
        "name": "ipython",
        "version": 3
      },
      "file_extension": ".py",
      "mimetype": "text/x-python",
      "name": "python",
      "nbconvert_exporter": "python",
      "pygments_lexer": "ipython3",
      "version": "3.8.0"
    }
  },
  "nbformat": 4,
  "nbformat_minor": 4
}