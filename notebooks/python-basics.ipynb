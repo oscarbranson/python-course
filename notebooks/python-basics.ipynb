{
 "cells": [
  {
   "cell_type": "markdown",
   "id": "69187511",
   "metadata": {},
   "source": [
    "# Python Basics for Earth Sciences\n",
    "\n",
    "## Learning Objectives\n",
    "- Understand Python variables and data types\n",
    "- Learn control structures (if/else, loops)\n",
    "- Create and use functions\n",
    "- Apply Python basics to earth science problems\n",
    "\n",
    "## Prerequisites\n",
    "None - this is a beginner module\n",
    "\n",
    "---"
   ]
  },
  {
   "cell_type": "markdown",
   "id": "a832141e",
   "metadata": {},
   "source": [
    "## 1. Variables and Data Types\n",
    "\n",
    "Python has several built-in data types that are essential for scientific computing."
   ]
  },
  {
   "cell_type": "code",
   "execution_count": null,
   "id": "a03398e8",
   "metadata": {},
   "outputs": [],
   "source": [
    "# Welcome to Python for Earth Sciences!\n",
    "print(\"Hello, Earth Sciences!\")\n",
    "\n",
    "# Variables and basic data types\n",
    "temperature = 25.3  # float\n",
    "depth = 150  # integer\n",
    "station_name = \"Pacific_Station_1\"  # string\n",
    "is_valid = True  # boolean\n",
    "\n",
    "print(f\"Temperature: {temperature}°C\")\n",
    "print(f\"Depth: {depth} meters\")\n",
    "print(f\"Station: {station_name}\")\n",
    "print(f\"Data valid: {is_valid}\")"
   ]
  },
  {
   "cell_type": "markdown",
   "id": "098f7760",
   "metadata": {},
   "source": [
    "## 2. Lists and Basic Operations\n",
    "\n",
    "Lists are fundamental for storing collections of data."
   ]
  },
  {
   "cell_type": "code",
   "execution_count": null,
   "id": "2b43e57a",
   "metadata": {},
   "outputs": [],
   "source": [
    "# Lists for storing measurements\n",
    "temperatures = [22.1, 23.5, 21.8, 24.2, 25.1]\n",
    "depths = [0, 10, 20, 30, 40]\n",
    "\n",
    "print(\"Temperature measurements:\", temperatures)\n",
    "print(\"Measurement depths:\", depths)\n",
    "\n",
    "# Basic list operations\n",
    "print(f\"Surface temperature: {temperatures[0]}°C\")\n",
    "print(f\"Number of measurements: {len(temperatures)}\")\n",
    "print(f\"Average temperature: {sum(temperatures) / len(temperatures):.2f}°C\")"
   ]
  },
  {
   "cell_type": "markdown",
   "id": "6db7126c",
   "metadata": {},
   "source": [
    "## 3. Control Structures\n",
    "\n",
    "Control structures help us make decisions and repeat operations."
   ]
  },
  {
   "cell_type": "code",
   "execution_count": null,
   "id": "fb1f656c",
   "metadata": {},
   "outputs": [],
   "source": [
    "# Conditional statements for data quality control\n",
    "for i, temp in enumerate(temperatures):\n",
    "    depth = depths[i]\n",
    "    \n",
    "    if temp > 30:\n",
    "        status = \"Hot - check sensor\"\n",
    "    elif temp < 0:\n",
    "        status = \"Freezing - possible ice\"\n",
    "    else:\n",
    "        status = \"Normal\"\n",
    "    \n",
    "    print(f\"Depth {depth}m: {temp}°C - {status}\")"
   ]
  },
  {
   "cell_type": "markdown",
   "id": "a52e7967",
   "metadata": {},
   "source": [
    "## 4. Functions\n",
    "\n",
    "Functions help organize code and make it reusable."
   ]
  },
  {
   "cell_type": "code",
   "execution_count": null,
   "id": "9ba1f844",
   "metadata": {},
   "outputs": [],
   "source": [
    "def celsius_to_kelvin(celsius):\n",
    "    \"\"\"Convert temperature from Celsius to Kelvin.\"\"\"\n",
    "    return celsius + 273.15\n",
    "\n",
    "def calculate_statistics(data):\n",
    "    \"\"\"Calculate basic statistics for a dataset.\"\"\"\n",
    "    return {\n",
    "        'mean': sum(data) / len(data),\n",
    "        'min': min(data),\n",
    "        'max': max(data),\n",
    "        'count': len(data)\n",
    "    }\n",
    "\n",
    "# Using our functions\n",
    "print(\"Temperature in Kelvin:\")\n",
    "for temp in temperatures:\n",
    "    kelvin = celsius_to_kelvin(temp)\n",
    "    print(f\"{temp}°C = {kelvin:.2f}K\")\n",
    "\n",
    "print(\"\\nTemperature statistics:\")\n",
    "stats = calculate_statistics(temperatures)\n",
    "for key, value in stats.items():\n",
    "    print(f\"{key}: {value:.2f}\")"
   ]
  },
  {
   "cell_type": "markdown",
   "id": "bbe8ca97",
   "metadata": {},
   "source": [
    "## 5. Exercise: Water Density Calculation\n",
    "\n",
    "Try creating a function to calculate water density based on temperature."
   ]
  },
  {
   "cell_type": "code",
   "execution_count": null,
   "id": "682e278a",
   "metadata": {},
   "outputs": [],
   "source": [
    "def water_density(temperature):\n",
    "    \"\"\"\n",
    "    Calculate water density (kg/m³) based on temperature (°C).\n",
    "    Simplified formula for pure water at 1 atm.\n",
    "    \"\"\"\n",
    "    # Your code here!\n",
    "    # Hint: density ≈ 1000 - 0.2 * (temperature - 4)²/100\n",
    "    pass\n",
    "\n",
    "# Test your function\n",
    "test_temps = [0, 4, 10, 20, 30]\n",
    "for temp in test_temps:\n",
    "    density = water_density(temp)\n",
    "    print(f\"At {temp}°C: density = {density:.2f} kg/m³\")"
   ]
  },
  {
   "cell_type": "markdown",
   "id": "ca0393d2",
   "metadata": {},
   "source": [
    "## Summary\n",
    "\n",
    "In this module, you learned:\n",
    "- Basic Python data types (int, float, string, boolean)\n",
    "- Working with lists\n",
    "- Control structures (if/else, for loops)\n",
    "- Creating and using functions\n",
    "- Applying these concepts to earth science problems\n",
    "\n",
    "## Next Steps\n",
    "\n",
    "Continue to the \"Working with Arrays\" module to learn about NumPy arrays, which are essential for scientific computing.\n",
    "\n",
    "## Additional Resources\n",
    "\n",
    "- [Python Official Tutorial](https://docs.python.org/3/tutorial/)\n",
    "- [Python for Scientists](https://python-for-scientists.readthedocs.io/)"
   ]
  }
 ],
 "metadata": {
  "language_info": {
   "name": "python"
  }
 },
 "nbformat": 4,
 "nbformat_minor": 5
}
