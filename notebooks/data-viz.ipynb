{
  "cells": [
    {
      "cell_type": "markdown",
      "metadata": {},
      "source": [
        "# Advanced Data Visualization\n",
        "\n",
        "## Learning Objectives\n",
        "- Learn about advanced data visualization\n",
        "- Apply concepts to earth science problems\n",
        "\n",
        "## Prerequisites\n",
        "core-advanced-plotting, file-io\n",
        "\n",
        "**Duration:** 35 minutes  \n",
        "**Level:** Advanced\n",
        "\n",
        "---"
      ]
    },
    {
      "cell_type": "code",
      "execution_count": null,
      "metadata": {},
      "outputs": [],
      "source": [
        "# Welcome to Advanced Data Visualization!\n",
        "print('Starting Advanced Data Visualization module...')\n",
        "\n",
        "# Import common libraries\n",
        "import numpy as np\n",
        "import pandas as pd\n",
        "import matplotlib.pyplot as plt"
      ]
    },
    {
      "cell_type": "markdown",
      "metadata": {},
      "source": [
        "## Summary\n",
        "\n",
        "This notebook covers **Advanced Data Visualization**.\n",
        "\n",
        "**Duration:** 35 minutes  \n",
        "**Level:** advanced  \n",
        "**Prerequisites:** core-advanced-plotting, file-io\n",
        "\n",
        "## Learning Objectives\n",
        "\n",
        "- Understand advanced data visualization concepts\n",
        "- Apply techniques to earth science problems\n",
        "- Work with visualization, interactive, dashboards\n",
        "\n",
        "---\n",
        "\n",
        "*This notebook is part of the Python for Earth Sciences course.*"
      ]
    }
  ],
  "metadata": {
    "kernelspec": {
      "display_name": "Python 3",
      "language": "python",
      "name": "python3"
    },
    "language_info": {
      "codemirror_mode": {
        "name": "ipython",
        "version": 3
      },
      "file_extension": ".py",
      "mimetype": "text/x-python",
      "name": "python",
      "nbconvert_exporter": "python",
      "pygments_lexer": "ipython3",
      "version": "3.8.0"
    }
  },
  "nbformat": 4,
  "nbformat_minor": 4
}