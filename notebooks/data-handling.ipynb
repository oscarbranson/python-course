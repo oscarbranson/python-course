{
 "cells": [
  {
   "cell_type": "markdown",
   "id": "50715f3d",
   "metadata": {},
   "source": [
    "# Data Handling with Pandas\n",
    "\n",
    "## Learning Objectives\n",
    "- Understand DataFrames and Series\n",
    "- Load and save data from various formats\n",
    "- Clean and manipulate datasets\n",
    "- Group and aggregate data\n",
    "- Handle time series data\n",
    "\n",
    "## Prerequisites\n",
    "- Python Basics\n",
    "- Working with Arrays (NumPy)\n",
    "\n",
    "---"
   ]
  },
  {
   "cell_type": "markdown",
   "id": "d5da9840",
   "metadata": {},
   "source": [
    "## 1. Introduction to Pandas\n",
    "\n",
    "Pandas provides data structures for handling structured data."
   ]
  },
  {
   "cell_type": "code",
   "execution_count": null,
   "id": "72d99cce",
   "metadata": {},
   "outputs": [],
   "source": [
    "import pandas as pd\n",
    "import numpy as np\n",
    "\n",
    "# Create a DataFrame from a dictionary\n",
    "ocean_data = {\n",
    "    'station': ['A1', 'A2', 'A3', 'B1', 'B2', 'B3'],\n",
    "    'latitude': [45.2, 45.5, 45.8, 46.1, 46.4, 46.7],\n",
    "    'longitude': [-125.3, -125.1, -124.9, -124.7, -124.5, -124.3],\n",
    "    'temperature': [15.2, 14.8, 16.1, 15.9, 14.5, 16.3],\n",
    "    'salinity': [33.8, 33.9, 34.1, 34.0, 33.7, 34.2],\n",
    "    'depth': [50, 75, 100, 60, 80, 95]\n",
    "}\n",
    "\n",
    "df = pd.DataFrame(ocean_data)\n",
    "print(\"Ocean Station Data:\")\n",
    "print(df)\n",
    "print(f\"\\nDataFrame shape: {df.shape}\")\n",
    "print(f\"Column names: {list(df.columns)}\")"
   ]
  },
  {
   "cell_type": "markdown",
   "id": "f946c905",
   "metadata": {},
   "source": [
    "## 2. Data Exploration and Info\n",
    "\n",
    "Get to know your dataset quickly."
   ]
  },
  {
   "cell_type": "code",
   "execution_count": null,
   "id": "6bbe55ef",
   "metadata": {},
   "outputs": [],
   "source": [
    "# Basic information about the dataset\n",
    "print(\"Dataset Info:\")\n",
    "print(df.info())\n",
    "\n",
    "print(\"\\nBasic Statistics:\")\n",
    "print(df.describe())\n",
    "\n",
    "print(\"\\nFirst few rows:\")\n",
    "print(df.head(3))\n",
    "\n",
    "print(\"\\nLast few rows:\")\n",
    "print(df.tail(3))"
   ]
  },
  {
   "cell_type": "markdown",
   "id": "2ee4ef1a",
   "metadata": {},
   "source": [
    "## 3. Data Selection and Filtering\n",
    "\n",
    "Access specific rows, columns, and subsets of data."
   ]
  },
  {
   "cell_type": "code",
   "execution_count": null,
   "id": "3346bd7d",
   "metadata": {},
   "outputs": [],
   "source": [
    "# Select columns\n",
    "print(\"Station temperatures:\")\n",
    "print(df['temperature'])\n",
    "\n",
    "# Select multiple columns\n",
    "print(\"\\nTemperature and Salinity:\")\n",
    "print(df[['station', 'temperature', 'salinity']])\n",
    "\n",
    "# Filter rows based on conditions\n",
    "warm_stations = df[df['temperature'] > 15.5]\n",
    "print(\"\\nWarm stations (>15.5°C):\")\n",
    "print(warm_stations)\n",
    "\n",
    "# Multiple conditions\n",
    "shallow_warm = df[(df['temperature'] > 15.5) & (df['depth'] < 80)]\n",
    "print(\"\\nShallow and warm stations:\")\n",
    "print(shallow_warm)"
   ]
  },
  {
   "cell_type": "markdown",
   "id": "9b6a31ed",
   "metadata": {},
   "source": [
    "## 4. Data Manipulation\n",
    "\n",
    "Add new columns and modify existing data."
   ]
  },
  {
   "cell_type": "code",
   "execution_count": null,
   "id": "3859ae19",
   "metadata": {},
   "outputs": [],
   "source": [
    "# Add new calculated columns\n",
    "df['temp_kelvin'] = df['temperature'] + 273.15\n",
    "\n",
    "# Calculate density using simplified formula\n",
    "df['density'] = 1000 + 0.8 * df['salinity'] - 0.2 * df['temperature'] + 0.005 * df['depth']\n",
    "\n",
    "# Create categorical column\n",
    "df['depth_category'] = pd.cut(df['depth'], \n",
    "                              bins=[0, 60, 90, 200], \n",
    "                              labels=['shallow', 'medium', 'deep'])\n",
    "\n",
    "# Round numerical columns\n",
    "df['density'] = df['density'].round(2)\n",
    "\n",
    "print(\"Enhanced dataset:\")\n",
    "print(df)"
   ]
  },
  {
   "cell_type": "markdown",
   "id": "c7d87e9d",
   "metadata": {},
   "source": [
    "## 5. Grouping and Aggregation\n",
    "\n",
    "Summarize data by groups."
   ]
  },
  {
   "cell_type": "code",
   "execution_count": null,
   "id": "743a84bb",
   "metadata": {},
   "outputs": [],
   "source": [
    "# Group by depth category\n",
    "depth_groups = df.groupby('depth_category')\n",
    "\n",
    "print(\"Statistics by depth category:\")\n",
    "print(depth_groups[['temperature', 'salinity', 'density']].mean())\n",
    "\n",
    "print(\"\\nCount by depth category:\")\n",
    "print(depth_groups.size())\n",
    "\n",
    "# Multiple aggregations\n",
    "print(\"\\nMultiple statistics:\")\n",
    "agg_stats = depth_groups['temperature'].agg(['mean', 'std', 'min', 'max'])\n",
    "print(agg_stats)"
   ]
  },
  {
   "cell_type": "markdown",
   "id": "3ba5cb74",
   "metadata": {},
   "source": [
    "## 6. Working with Time Series\n",
    "\n",
    "Handle time-based data effectively."
   ]
  },
  {
   "cell_type": "code",
   "execution_count": null,
   "id": "c8638e37",
   "metadata": {},
   "outputs": [],
   "source": [
    "# Create time series data\n",
    "dates = pd.date_range('2024-01-01', periods=30, freq='D')\n",
    "np.random.seed(42)\n",
    "sea_level = 1000 + 50 * np.sin(np.arange(30) * 2 * np.pi / 14) + 10 * np.random.randn(30)\n",
    "\n",
    "time_series = pd.DataFrame({\n",
    "    'date': dates,\n",
    "    'sea_level_mm': sea_level\n",
    "})\n",
    "\n",
    "# Set date as index\n",
    "time_series.set_index('date', inplace=True)\n",
    "\n",
    "print(\"Sea level time series:\")\n",
    "print(time_series.head(10))\n",
    "\n",
    "# Time-based operations\n",
    "print(f\"\\nMean sea level: {time_series['sea_level_mm'].mean():.1f} mm\")\n",
    "print(f\"Sea level range: {time_series['sea_level_mm'].max() - time_series['sea_level_mm'].min():.1f} mm\")\n",
    "\n",
    "# Resample to weekly means\n",
    "weekly_mean = time_series.resample('W').mean()\n",
    "print(\"\\nWeekly averages:\")\n",
    "print(weekly_mean)"
   ]
  },
  {
   "cell_type": "markdown",
   "id": "be7798f8",
   "metadata": {},
   "source": [
    "## 7. Data Import/Export\n",
    "\n",
    "Work with external data files."
   ]
  },
  {
   "cell_type": "code",
   "execution_count": null,
   "id": "1dd930a2",
   "metadata": {},
   "outputs": [],
   "source": [
    "# Save to CSV\n",
    "df.to_csv('ocean_stations.csv', index=False)\n",
    "print(\"Data saved to 'ocean_stations.csv'\")\n",
    "\n",
    "# Read from CSV\n",
    "loaded_data = pd.read_csv('ocean_stations.csv')\n",
    "print(\"\\nLoaded data:\")\n",
    "print(loaded_data.head())\n",
    "\n",
    "# Save time series to CSV with proper date handling\n",
    "time_series.to_csv('sea_level_data.csv')\n",
    "print(\"\\nTime series saved to 'sea_level_data.csv'\")\n",
    "\n",
    "# Read time series with date parsing\n",
    "loaded_ts = pd.read_csv('sea_level_data.csv', index_col='date', parse_dates=True)\n",
    "print(\"\\nLoaded time series:\")\n",
    "print(loaded_ts.head())"
   ]
  },
  {
   "cell_type": "markdown",
   "id": "54f8939e",
   "metadata": {},
   "source": [
    "## 8. Exercise: CTD Data Analysis\n",
    "\n",
    "Analyze a simulated CTD (Conductivity, Temperature, Depth) profile."
   ]
  },
  {
   "cell_type": "code",
   "execution_count": null,
   "id": "0309d024",
   "metadata": {},
   "outputs": [],
   "source": [
    "# Create simulated CTD profile\n",
    "np.random.seed(123)\n",
    "depths = np.arange(0, 201, 5)  # 0 to 200m, every 5m\n",
    "n_points = len(depths)\n",
    "\n",
    "# Simulate realistic ocean profile\n",
    "temperatures = 20 - depths * 0.08 + np.random.normal(0, 0.5, n_points)\n",
    "salinities = 34 + depths * 0.01 + np.random.normal(0, 0.1, n_points)\n",
    "conductivities = salinities * 4.2  # Simplified relationship\n",
    "\n",
    "ctd_data = pd.DataFrame({\n",
    "    'depth_m': depths,\n",
    "    'temperature_c': temperatures,\n",
    "    'salinity_psu': salinities,\n",
    "    'conductivity': conductivities\n",
    "})\n",
    "\n",
    "print(\"CTD Profile Data:\")\n",
    "print(ctd_data.head(10))\n",
    "\n",
    "# Your analysis tasks:\n",
    "# 1. Calculate water density at each depth\n",
    "# 2. Find the thermocline (depth of maximum temperature gradient)\n",
    "# 3. Identify water masses (group by temperature/salinity ranges)\n",
    "# 4. Calculate average properties for upper ocean (0-50m) vs deep ocean (>50m)\n",
    "\n",
    "# Example solution for task 1:\n",
    "ctd_data['density'] = (1000 + 0.8 * ctd_data['salinity_psu'] - \n",
    "                      0.2 * ctd_data['temperature_c'] + \n",
    "                      0.005 * ctd_data['depth_m'])\n",
    "\n",
    "print(\"\\nWith density calculated:\")\n",
    "print(ctd_data.head(10))\n",
    "\n",
    "# Save the CTD data for future use\n",
    "ctd_data.to_csv('ctd_profile.csv', index=False)\n",
    "print(\"\\nCTD data saved to 'ctd_profile.csv'\")"
   ]
  },
  {
   "cell_type": "markdown",
   "id": "df5c1da6",
   "metadata": {},
   "source": [
    "## Summary\n",
    "\n",
    "In this module, you learned:\n",
    "- Creating and manipulating DataFrames\n",
    "- Data selection, filtering, and indexing\n",
    "- Adding calculated columns\n",
    "- Grouping and aggregating data\n",
    "- Working with time series\n",
    "- Reading and writing data files\n",
    "- Applying pandas to oceanographic data analysis\n",
    "\n",
    "## Next Steps\n",
    "\n",
    "Continue to \"Basic Plotting\" to learn how to visualize your data with matplotlib.\n",
    "\n",
    "## Additional Resources\n",
    "\n",
    "- [Pandas Documentation](https://pandas.pydata.org/docs/)\n",
    "- [10 Minutes to Pandas](https://pandas.pydata.org/docs/user_guide/10min.html)\n",
    "- [Python for Data Analysis](https://wesmckinney.com/book/) by Wes McKinney"
   ]
  }
 ],
 "metadata": {
  "language_info": {
   "name": "python"
  }
 },
 "nbformat": 4,
 "nbformat_minor": 5
}
