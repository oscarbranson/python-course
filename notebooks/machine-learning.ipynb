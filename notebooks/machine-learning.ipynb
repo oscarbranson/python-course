{
  "cells": [
    {
      "cell_type": "markdown",
      "metadata": {},
      "source": [
        "# Machine Learning for Earth Sciences\n",
        "\n",
        "## Learning Objectives\n",
        "- Learn about machine learning for earth sciences\n",
        "- Apply concepts to earth science problems\n",
        "\n",
        "## Prerequisites\n",
        "statistical-analysis, advanced-plotting\n",
        "\n",
        "**Duration:** 40 minutes  \n",
        "**Level:** Advanced\n",
        "\n",
        "---"
      ]
    },
    {
      "cell_type": "code",
      "execution_count": null,
      "metadata": {},
      "outputs": [],
      "source": [
        "# Welcome to Machine Learning for Earth Sciences!\n",
        "print('Starting Machine Learning for Earth Sciences module...')\n",
        "\n",
        "# Import common libraries\n",
        "import numpy as np\n",
        "import pandas as pd\n",
        "import matplotlib.pyplot as plt"
      ]
    },
    {
      "cell_type": "markdown",
      "metadata": {},
      "source": [
        "## Summary\n",
        "\n",
        "This notebook covers **Machine Learning for Earth Sciences**.\n",
        "\n",
        "**Duration:** 40 minutes  \n",
        "**Level:** advanced  \n",
        "**Prerequisites:** statistical-analysis, advanced-plotting\n",
        "\n",
        "## Learning Objectives\n",
        "\n",
        "- Understand machine learning for earth sciences concepts\n",
        "- Apply techniques to earth science problems\n",
        "- Work with machine learning, classification, regression\n",
        "\n",
        "---\n",
        "\n",
        "*This notebook is part of the Python for Earth Sciences course.*"
      ]
    }
  ],
  "metadata": {
    "kernelspec": {
      "display_name": "Python 3",
      "language": "python",
      "name": "python3"
    },
    "language_info": {
      "codemirror_mode": {
        "name": "ipython",
        "version": 3
      },
      "file_extension": ".py",
      "mimetype": "text/x-python",
      "name": "python",
      "nbconvert_exporter": "python",
      "pygments_lexer": "ipython3",
      "version": "3.8.0"
    }
  },
  "nbformat": 4,
  "nbformat_minor": 4
}